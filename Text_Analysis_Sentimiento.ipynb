{
  "nbformat": 4,
  "nbformat_minor": 0,
  "metadata": {
    "colab": {
      "private_outputs": true,
      "provenance": []
    },
    "kernelspec": {
      "name": "python3",
      "display_name": "Python 3"
    },
    "language_info": {
      "name": "python"
    }
  },
  "cells": [
    {
      "cell_type": "markdown",
      "source": [
        "# Análisis de Sentimiento"
      ],
      "metadata": {
        "id": "KDo5RG960F0s"
      }
    },
    {
      "cell_type": "markdown",
      "source": [
        "**Instalación de Modulo**"
      ],
      "metadata": {
        "id": "_wR-5UJW0Q7F"
      }
    },
    {
      "cell_type": "code",
      "source": [
        "! pip install pysentimiento"
      ],
      "metadata": {
        "id": "fU8a6s8x0Zwt"
      },
      "execution_count": null,
      "outputs": []
    },
    {
      "cell_type": "markdown",
      "source": [
        "**Carga de libreria**"
      ],
      "metadata": {
        "id": "hlKSaBH10gZw"
      }
    },
    {
      "cell_type": "code",
      "source": [
        "from pysentimiento import create_analyzer\n",
        "import numpy as np\n",
        "import pandas as pd"
      ],
      "metadata": {
        "id": "CsIkX-pM0pau"
      },
      "execution_count": null,
      "outputs": []
    },
    {
      "cell_type": "markdown",
      "source": [
        "### Detectar emociones"
      ],
      "metadata": {
        "id": "aqD_T35Z08QI"
      }
    },
    {
      "cell_type": "code",
      "source": [
        "emotion = create_analyzer(task=\"emotion\", lang=\"es\")\n",
        "result = emotion.predict(\"Me encanta el mundo\")\n",
        "result"
      ],
      "metadata": {
        "id": "cQq_wC750_EU"
      },
      "execution_count": null,
      "outputs": []
    },
    {
      "cell_type": "code",
      "source": [
        "resultado = result.output\n",
        "print('{}: {}'.format(resultado, result.probas[resultado]))"
      ],
      "metadata": {
        "id": "PPVdADmr1OT1"
      },
      "execution_count": null,
      "outputs": []
    },
    {
      "cell_type": "code",
      "source": [
        "# crear funcion para detectar las emociones tanto en ingles y español\n",
        "def detect_emotion(text, lang = 'es'):\n",
        "  emotion = create_analyzer(task=\"emotion\", lang=lang)\n",
        "  result = emotion.predict(text)\n",
        "  resultado = result.output\n",
        "  return resultado, result.probas[resultado]"
      ],
      "metadata": {
        "id": "CWFlE5P12KKz"
      },
      "execution_count": null,
      "outputs": []
    },
    {
      "cell_type": "code",
      "source": [
        "detect_emotion(\"Me encanta el mundo\", lang = 'es')"
      ],
      "metadata": {
        "id": "sgLhvvDN3bzo"
      },
      "execution_count": null,
      "outputs": []
    },
    {
      "cell_type": "code",
      "source": [
        "detect_emotion(\"I love the world\", lang = 'en')"
      ],
      "metadata": {
        "id": "06WhsEi23mKs"
      },
      "execution_count": null,
      "outputs": []
    },
    {
      "cell_type": "code",
      "source": [
        "detect_emotion(\"I am scared of learning mathematcis\", lang = 'en')"
      ],
      "metadata": {
        "id": "al7fQEbR3ofU"
      },
      "execution_count": null,
      "outputs": []
    },
    {
      "cell_type": "markdown",
      "source": [
        "### Hate speech detection"
      ],
      "metadata": {
        "id": "sl9EIMQt39tt"
      }
    },
    {
      "cell_type": "code",
      "source": [
        "hate = create_analyzer(task=\"hate_speech\", lang=\"en\")\n",
        "result = hate.predict(\" I hate eating apples\")\n",
        "result.probas"
      ],
      "metadata": {
        "id": "kS9fvsHa4OtT"
      },
      "execution_count": null,
      "outputs": []
    },
    {
      "cell_type": "code",
      "source": [],
      "metadata": {
        "id": "mqQUGSbZ4Tis"
      },
      "execution_count": null,
      "outputs": []
    }
  ]
}